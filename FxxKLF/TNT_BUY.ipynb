{
 "cells": [
  {
   "cell_type": "markdown",
   "metadata": {},
   "source": [
    "# TFENT买买买"
   ]
  },
  {
   "cell_type": "code",
   "execution_count": 1,
   "metadata": {},
   "outputs": [],
   "source": [
    "from selenium import webdriver\n",
    "import datetime\n",
    "import time"
   ]
  },
  {
   "cell_type": "markdown",
   "metadata": {},
   "source": [
    "## 登录\n",
    "账户密码登录需要滑块验证，还是扫码比较快。\n",
    "当然你愿意手动输入也行，开心就好😊"
   ]
  },
  {
   "cell_type": "code",
   "execution_count": 2,
   "metadata": {},
   "outputs": [],
   "source": [
    "def login():\n",
    "    # 打开tfent登陆页面，通过扫码登录\n",
    "    browser.get(\"https://www.tfent.cn/login.html\")\n",
    "    time.sleep(3)\n",
    "    # 页面上有“登录”二字说明没有登录\n",
    "    while True:\n",
    "        try:\n",
    "            elem = browser.find_element_by_link_text(\"登录\")\n",
    "            print(f\"请尽快扫码登录\")\n",
    "            time.sleep(10)\n",
    "        except:\n",
    "            print(f\"已登录\")\n",
    "            break\n",
    "    print(f\"登录成功！\")"
   ]
  },
  {
   "cell_type": "markdown",
   "metadata": {},
   "source": [
    "## 购物车勾选商品"
   ]
  },
  {
   "cell_type": "code",
   "execution_count": 3,
   "metadata": {},
   "outputs": [],
   "source": [
    "def picking(all_buy):\n",
    "    # 打开购物车列表页面\n",
    "    browser.get(\"http://shop.tfent.cn/Cart/index.html\")\n",
    "    time.sleep(3)\n",
    "\n",
    "    # 是否全选购物车\n",
    "    elems = browser.find_elements_by_css_selector(\".cont.clearfix.cart_choose\")\n",
    "    if all_buy == 1:\n",
    "        for e in elems:\n",
    "            e.find_element_by_class_name(\"tabCell\").click()\n",
    "        print(f\"已经勾选需要的商品\")\n",
    "    else:\n",
    "        print(f\"请手动勾选需要购买的商品\")\n",
    "        time.sleep(5)"
   ]
  },
  {
   "cell_type": "markdown",
   "metadata": {},
   "source": [
    "## 到时间点击确认付款\n",
    "\n",
    "all_buy == 1时，购物车中的货物全买\n",
    "\n",
    "all_buy == 0时，手动勾选"
   ]
  },
  {
   "cell_type": "code",
   "execution_count": 4,
   "metadata": {},
   "outputs": [],
   "source": [
    "def buy(times):\n",
    "    success = False\n",
    "    while True:\n",
    "        if success:\n",
    "            break\n",
    "        now = datetime.datetime.now().strftime('%Y-%m-%d %H:%M:%S.%f')\n",
    "        # 对比时间，时间到的话就点击结算\n",
    "        if now > times:\n",
    "            # 点击结算按钮\n",
    "            while True:\n",
    "                try:\n",
    "                    if browser.find_element_by_link_text(\"确认并付款\"):\n",
    "                        browser.find_element_by_link_text(\"确认并付款\").click()\n",
    "                        print(f\"结算成功，准备提交订单\")\n",
    "                        success = True\n",
    "                        break\n",
    "                except:\n",
    "                    pass\n",
    "            time.sleep(0.01)"
   ]
  },
  {
   "cell_type": "markdown",
   "metadata": {},
   "source": [
    "## 主流程"
   ]
  },
  {
   "cell_type": "code",
   "execution_count": 5,
   "metadata": {},
   "outputs": [
    {
     "name": "stdout",
     "output_type": "stream",
     "text": [
      "请尽快扫码登录\n",
      "已登录\n",
      "登录成功！\n",
      "已经勾选需要的商品\n",
      "结算成功，准备提交订单\n",
      "2020-09-03 21:52:00.087439\n"
     ]
    }
   ],
   "source": [
    "# 是否全买\n",
    "all_buy = 1\n",
    "# 请指定抢购时间，时间格式：\"2019-06-01 10:08:00.000\"\n",
    "times = \"2020-09-03 21:52:00.000\"\n",
    "\n",
    "# 自动打开Chrome浏览器\n",
    "browser = webdriver.Chrome()\n",
    "# 设置浏览器最大化显示\n",
    "browser.maximize_window()\n",
    "\n",
    "# 扫码登录淘宝\n",
    "login()\n",
    "# 勾选准备结算的商品\n",
    "picking(all_buy)\n",
    "# 等待抢购时间，定时秒杀\n",
    "buy(times)\n",
    "\n",
    "print(str(datetime.datetime.now().strftime('%Y-%m-%d %H:%M:%S.%f')))"
   ]
  },
  {
   "cell_type": "code",
   "execution_count": null,
   "metadata": {},
   "outputs": [],
   "source": []
  }
 ],
 "metadata": {
  "kernelspec": {
   "display_name": "Python 3",
   "language": "python",
   "name": "python3"
  },
  "language_info": {
   "codemirror_mode": {
    "name": "ipython",
    "version": 3
   },
   "file_extension": ".py",
   "mimetype": "text/x-python",
   "name": "python",
   "nbconvert_exporter": "python",
   "pygments_lexer": "ipython3",
   "version": "3.7.4"
  },
  "toc": {
   "base_numbering": 1,
   "nav_menu": {},
   "number_sections": true,
   "sideBar": true,
   "skip_h1_title": false,
   "title_cell": "Table of Contents",
   "title_sidebar": "Contents",
   "toc_cell": false,
   "toc_position": {},
   "toc_section_display": true,
   "toc_window_display": false
  }
 },
 "nbformat": 4,
 "nbformat_minor": 2
}

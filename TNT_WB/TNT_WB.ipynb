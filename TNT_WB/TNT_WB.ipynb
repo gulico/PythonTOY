{
 "cells": [
  {
   "cell_type": "code",
   "execution_count": null,
   "metadata": {},
   "outputs": [],
   "source": [
    "from urllib.parse import urlencode\n",
    "from pyquery import PyQuery as py\n",
    "import requests\n",
    "import pandas as pd"
   ]
  },
  {
   "cell_type": "code",
   "execution_count": null,
   "metadata": {},
   "outputs": [],
   "source": [
    "def get_information(since_id = '',uid = 0,):\n",
    "    #X-Requested-With 用来标识Ajax请求，必须得有\n",
    "    #Referer 用来指明请求来源  必须有\n",
    "    #User-Agent  伪装浏览器，必须有\n",
    "    headers = {'Referer': 'https://m.weibo.cn',\n",
    "                'User-Agent': 'Mozilla/5.0 (Windows NT 10.0; Win64; x64) AppleWebKit/537.36 (KHTML, like Gecko) Chrome/78.0.3904.108 Safari/537.36',\n",
    "                'X-Requested-With': 'XMLHttpRequest'}\n",
    "\n",
    "    params = {\n",
    "                'uid': uid,\n",
    "                'luicode': 10000011,\n",
    "                'lfid': '231093_-_selffollowed',\n",
    "                'type': int(uid),\n",
    "                'value': 6620842908,\n",
    "                'containerid': '107603' + str(uid),\n",
    "                'since_id': since_id\n",
    "    }\n",
    "\n",
    "    # urlencode() 方法将参数转化为URL的GET请求参数\n",
    "    url = 'https://m.weibo.cn/api/container/getIndex?' + urlencode(params)\n",
    "    response = requests.get(url,headers = headers)\n",
    "    #获得返回的 json 内容，做分析\n",
    "    json_text = response.json()\n",
    "    #获得 since_id 为增加页面做准备\n",
    "    since_id = json_text.get('data').get('cardlistInfo').get('since_id')\n",
    "    return json_text,since_id"
   ]
  },
  {
   "cell_type": "code",
   "execution_count": null,
   "metadata": {},
   "outputs": [],
   "source": [
    "def parse_json(json):\n",
    "    items = json.get('data').get('cards')\n",
    "\n",
    "\n",
    "    for item in items:\n",
    "        item = item.get('mblog')\n",
    "        weibo = {}\n",
    "        weibo['发表时间'] = item.get('created_at')\n",
    "        #weibo['手机类型'] = item.get('source')\n",
    "        weibo['转发数量'] = item.get('reposts_count')\n",
    "        #weibo['图片链接'] = item.get('bmiddle_pic')\n",
    "        weibo['点赞数'] = item.get('attitudes_count')\n",
    "        weibo['评论数'] = item.get('comments_count')\n",
    "        weibo['内容'] = py(item.get('text')).text()\n",
    "        yield weibo"
   ]
  },
  {
   "cell_type": "code",
   "execution_count": null,
   "metadata": {},
   "outputs": [],
   "source": [
    "\n",
    "#uid 你所要爬取的微博的ID，在响应的参数列表中可以得到，图中可以找到\n",
    "uid = 6620842908\n",
    "#p 爬取的页数\n",
    "p = 10\n",
    "data = []\n",
    "s = get_information(since_id = 4595747292721435,uid = uid)\n",
    "print(s[1])\n",
    "for i in parse_json(s[0]):\n",
    "    print(i)\n",
    "    data.append(i)\n",
    "#解析 JSON\n",
    "#parse_json(s[0])\n",
    "#输出解析后的内容\n",
    "'''\n",
    "for i in parse_json(s[0]):\n",
    "    print(i)\n",
    "'''\n",
    "#多页爬取\n",
    "\n",
    "for i in range(p):\n",
    "    s = get_information(since_id = s[1],uid = uid)\n",
    "    print(s[1])\n",
    "    for j in parse_json(s[0]):\n",
    "        print(j)\n",
    "        data.append(j)\n",
    "\n",
    "pd.DataFrame(data).to_csv('tnt20211.csv',encoding=\"utf_8_sig\")"
   ]
  }
 ],
 "metadata": {
  "kernelspec": {
   "display_name": "Python 3",
   "language": "python",
   "name": "python3"
  },
  "language_info": {
   "codemirror_mode": {
    "name": "ipython",
    "version": 3
   },
   "file_extension": ".py",
   "mimetype": "text/x-python",
   "name": "python",
   "nbconvert_exporter": "python",
   "pygments_lexer": "ipython3",
   "version": "3.7.4"
  },
  "toc": {
   "base_numbering": 1,
   "nav_menu": {},
   "number_sections": true,
   "sideBar": true,
   "skip_h1_title": false,
   "title_cell": "Table of Contents",
   "title_sidebar": "Contents",
   "toc_cell": false,
   "toc_position": {},
   "toc_section_display": true,
   "toc_window_display": false
  }
 },
 "nbformat": 4,
 "nbformat_minor": 2
}

{
 "cells": [
  {
   "cell_type": "code",
   "execution_count": 1,
   "metadata": {},
   "outputs": [],
   "source": [
    "import sqlite3"
   ]
  },
  {
   "cell_type": "code",
   "execution_count": 3,
   "metadata": {},
   "outputs": [
    {
     "name": "stdout",
     "output_type": "stream",
     "text": [
      "[(506,)]\n"
     ]
    }
   ],
   "source": [
    "con = sqlite3.connect(\"doubangroup.db\")\n",
    "cur = con.cursor()\n",
    "cur.execute(\"select COUNT(DISTINCT user_id) from shao\")\n",
    "print(cur.fetchall())"
   ]
  },
  {
   "cell_type": "code",
   "execution_count": 13,
   "metadata": {},
   "outputs": [
    {
     "name": "stdout",
     "output_type": "stream",
     "text": [
      "[(29779,)]\n"
     ]
    }
   ],
   "source": [
    "cur.execute(\"select COUNT(user_id) from shao\")\n",
    "print(cur.fetchall())"
   ]
  },
  {
   "cell_type": "code",
   "execution_count": 14,
   "metadata": {},
   "outputs": [
    {
     "name": "stdout",
     "output_type": "stream",
     "text": [
      "[(2728,)]\n"
     ]
    }
   ],
   "source": [
    "cur.execute(\"select COUNT(DISTINCT user_id) from npc\")\n",
    "print(cur.fetchall())"
   ]
  },
  {
   "cell_type": "code",
   "execution_count": 6,
   "metadata": {},
   "outputs": [
    {
     "name": "stdout",
     "output_type": "stream",
     "text": [
      "[(26269,)]\n"
     ]
    }
   ],
   "source": [
    "cur.execute(\"select COUNT(user_id) from npc\")\n",
    "print(cur.fetchall())"
   ]
  },
  {
   "cell_type": "code",
   "execution_count": 7,
   "metadata": {
    "scrolled": true
   },
   "outputs": [
    {
     "name": "stdout",
     "output_type": "stream",
     "text": [
      "[(189,)]\n"
     ]
    }
   ],
   "source": [
    "cur.execute(\"select COUNT(*) from shao where user_id = '155619420'\")\n",
    "print(cur.fetchall())"
   ]
  },
  {
   "cell_type": "code",
   "execution_count": 69,
   "metadata": {},
   "outputs": [
    {
     "name": "stdout",
     "output_type": "stream",
     "text": [
      "('永寂音', 1292)\n",
      "('橘子海', 1282)\n",
      "('中国台湾叶舒华', 836)\n",
      "('酸汤鱼薯片', 403)\n",
      "('SHE_王子异', 382)\n",
      "('请耐心一点', 291)\n",
      "('贪吃猫（已当妈', 265)\n",
      "('煙里一隻狼', 252)\n",
      "('王子异（已结婚', 220)\n",
      "('一只冰箱', 206)\n",
      "('自行车与花', 206)\n",
      "('姚琛', 203)\n",
      "('江湖骗子', 182)\n",
      "('让你别看你还看', 180)\n",
      "('陈信宏', 177)\n",
      "('打架请扣1', 147)\n",
      "('啊？', 144)\n",
      "('闹钟不起床', 138)\n",
      "('牛奶泡面🥛', 136)\n",
      "('宋祖儿', 119)\n"
     ]
    }
   ],
   "source": [
    "cur.execute(\"select user_name,count(user_id) from npc group by user_id ORDER BY count(user_id) DESC\")\n",
    "for i in range(0,20):\n",
    "    result = cur.fetchone()\n",
    "    print(result)"
   ]
  },
  {
   "cell_type": "code",
   "execution_count": 9,
   "metadata": {},
   "outputs": [],
   "source": [
    "cur.close()\n",
    "con.close()"
   ]
  },
  {
   "cell_type": "markdown",
   "metadata": {},
   "source": [
    "# 冷圈再搞生态调查"
   ]
  },
  {
   "cell_type": "code",
   "execution_count": 1,
   "metadata": {},
   "outputs": [],
   "source": [
    "import sqlite3\n",
    "con = sqlite3.connect(\"LenQuanZaiGao.db\")\n",
    "cur = con.cursor()"
   ]
  },
  {
   "cell_type": "markdown",
   "metadata": {},
   "source": [
    "## 单人"
   ]
  },
  {
   "cell_type": "code",
   "execution_count": 8,
   "metadata": {},
   "outputs": [
    {
     "name": "stdout",
     "output_type": "stream",
     "text": [
      "[(275, 70)]\n"
     ]
    }
   ],
   "source": [
    "cur.execute(\"select COUNT(user_id),COUNT(DISTINCT user_id) from mjq\")\n",
    "print(cur.fetchall())"
   ]
  },
  {
   "cell_type": "code",
   "execution_count": 9,
   "metadata": {},
   "outputs": [
    {
     "name": "stdout",
     "output_type": "stream",
     "text": [
      "[(387, 80)]\n"
     ]
    }
   ],
   "source": [
    "cur.execute(\"select COUNT(user_id),COUNT(DISTINCT user_id) from dcx\")\n",
    "print(cur.fetchall())"
   ]
  },
  {
   "cell_type": "code",
   "execution_count": 7,
   "metadata": {},
   "outputs": [
    {
     "name": "stdout",
     "output_type": "stream",
     "text": [
      "[(649, 87)]\n"
     ]
    }
   ],
   "source": [
    "cur.execute(\"select COUNT(user_id),COUNT(DISTINCT user_id) from syx\")\n",
    "print(cur.fetchall())"
   ]
  },
  {
   "cell_type": "code",
   "execution_count": 10,
   "metadata": {},
   "outputs": [
    {
     "name": "stdout",
     "output_type": "stream",
     "text": [
      "[(596, 86)]\n"
     ]
    }
   ],
   "source": [
    "cur.execute(\"select COUNT(user_id),COUNT(DISTINCT user_id) from lyw\")\n",
    "print(cur.fetchall())"
   ]
  },
  {
   "cell_type": "code",
   "execution_count": 11,
   "metadata": {},
   "outputs": [
    {
     "name": "stdout",
     "output_type": "stream",
     "text": [
      "[(561, 84)]\n"
     ]
    }
   ],
   "source": [
    "cur.execute(\"select COUNT(user_id),COUNT(DISTINCT user_id) from zzy\")\n",
    "print(cur.fetchall())"
   ]
  },
  {
   "cell_type": "code",
   "execution_count": 12,
   "metadata": {},
   "outputs": [
    {
     "name": "stdout",
     "output_type": "stream",
     "text": [
      "[(966, 107)]\n"
     ]
    }
   ],
   "source": [
    "cur.execute(\"select COUNT(user_id),COUNT(DISTINCT user_id) from yhx\")\n",
    "print(cur.fetchall())"
   ]
  },
  {
   "cell_type": "code",
   "execution_count": 13,
   "metadata": {},
   "outputs": [
    {
     "name": "stdout",
     "output_type": "stream",
     "text": [
      "[(1675, 135)]\n"
     ]
    }
   ],
   "source": [
    "cur.execute(\"select COUNT(user_id),COUNT(DISTINCT user_id) from hjl\")\n",
    "print(cur.fetchall())"
   ]
  },
  {
   "cell_type": "markdown",
   "metadata": {},
   "source": [
    "## 每栋楼都参与"
   ]
  },
  {
   "cell_type": "code",
   "execution_count": 14,
   "metadata": {},
   "outputs": [
    {
     "name": "stdout",
     "output_type": "stream",
     "text": [
      "[(8,)]\n"
     ]
    }
   ],
   "source": [
    "sql = '''\n",
    "    select count(*)\n",
    "    from (\n",
    "        select DISTINCT user_id,user_name from mjq \n",
    "        intersect select DISTINCT user_id,user_name from dcx\n",
    "        intersect select DISTINCT user_id,user_name from syx\n",
    "        intersect select DISTINCT user_id,user_name from lyw\n",
    "        intersect select DISTINCT user_id,user_name from zzy\n",
    "        intersect select DISTINCT user_id,user_name from yhx\n",
    "        intersect select DISTINCT user_id,user_name from hjl\n",
    "    )\n",
    "    \n",
    "'''\n",
    "cur.execute(sql)\n",
    "print(cur.fetchall())"
   ]
  },
  {
   "cell_type": "markdown",
   "metadata": {},
   "source": [
    "## 只参与单楼"
   ]
  },
  {
   "cell_type": "code",
   "execution_count": 12,
   "metadata": {},
   "outputs": [
    {
     "name": "stdout",
     "output_type": "stream",
     "text": [
      "[(48,)]\n"
     ]
    }
   ],
   "source": [
    "sql = '''\n",
    "    select COUNT(*)\n",
    "    from (\n",
    "        select user_id,user_name from hjl\n",
    "        except\n",
    "            select user_id,user_name \n",
    "            from \n",
    "            (\n",
    "                select DISTINCT user_id,user_name from mjq\n",
    "                union select DISTINCT user_id,user_name from dcx\n",
    "                union select DISTINCT user_id,user_name from syx\n",
    "                union select DISTINCT user_id,user_name from lyw\n",
    "                union select DISTINCT user_id,user_name from zzy\n",
    "                union select DISTINCT user_id,user_name from yhx\n",
    "            )   \n",
    "    )\n",
    "    \n",
    "'''\n",
    "cur.execute(sql)\n",
    "print(cur.fetchall())"
   ]
  },
  {
   "cell_type": "markdown",
   "metadata": {},
   "source": [
    "## 四大重合人数"
   ]
  },
  {
   "cell_type": "markdown",
   "metadata": {},
   "source": [
    "### 只在两人楼中留言"
   ]
  },
  {
   "cell_type": "code",
   "execution_count": 29,
   "metadata": {},
   "outputs": [
    {
     "name": "stdout",
     "output_type": "stream",
     "text": [
      "[(4,)]\n"
     ]
    }
   ],
   "source": [
    "sql = '''\n",
    "    select count(*)\n",
    "    from (\n",
    "        select user_id,user_name from lyw\n",
    "        intersect select DISTINCT user_id,user_name from syx\n",
    "        except\n",
    "            select user_id,user_name \n",
    "            from \n",
    "            (\n",
    "                select DISTINCT user_id,user_name from hjl\n",
    "                union select DISTINCT user_id,user_name from yhx\n",
    "                union select DISTINCT user_id,user_name from zzy\n",
    "                union select DISTINCT user_id,user_name from mjq\n",
    "                union select DISTINCT user_id,user_name from dcx\n",
    "            )   \n",
    "    )\n",
    "    \n",
    "'''\n",
    "cur.execute(sql)\n",
    "print(cur.fetchall())"
   ]
  },
  {
   "cell_type": "markdown",
   "metadata": {},
   "source": [
    "### 在两人楼中留言"
   ]
  },
  {
   "cell_type": "code",
   "execution_count": 23,
   "metadata": {},
   "outputs": [
    {
     "name": "stdout",
     "output_type": "stream",
     "text": [
      "[(63,)]\n"
     ]
    }
   ],
   "source": [
    "sql = '''\n",
    "    select COUNT(*)\n",
    "    from (\n",
    "        select user_id,user_name from yhx\n",
    "        intersect select DISTINCT user_id,user_name from hjl\n",
    "    )\n",
    "    \n",
    "'''\n",
    "cur.execute(sql)\n",
    "print(cur.fetchall())"
   ]
  },
  {
   "cell_type": "markdown",
   "metadata": {},
   "source": [
    "# 踩组cp调查"
   ]
  },
  {
   "cell_type": "code",
   "execution_count": 12,
   "metadata": {},
   "outputs": [],
   "source": [
    "import sqlite3\n",
    "con = sqlite3.connect(\"CZCP.db\")\n",
    "cur = con.cursor()"
   ]
  },
  {
   "cell_type": "markdown",
   "metadata": {},
   "source": [
    "## 碗盆"
   ]
  },
  {
   "cell_type": "code",
   "execution_count": 3,
   "metadata": {},
   "outputs": [
    {
     "name": "stdout",
     "output_type": "stream",
     "text": [
      "[(460, 214)]\n"
     ]
    }
   ],
   "source": [
    "## https://www.douban.com/group/topic/202112903/?start=0\n",
    "cur.execute(\"select COUNT(user_id),COUNT(DISTINCT user_id) from wpp\")\n",
    "print(cur.fetchall())"
   ]
  },
  {
   "cell_type": "code",
   "execution_count": 4,
   "metadata": {},
   "outputs": [
    {
     "name": "stdout",
     "output_type": "stream",
     "text": [
      "('已注销', 141)\n",
      "('游泳池与图书馆', 11)\n",
      "('💍', 8)\n",
      "('俞于屿', 5)\n",
      "('无情无义嗑药机', 5)\n",
      "('大鸡腿🍗', 5)\n",
      "('堀未央奈', 4)\n",
      "('一点点糖浆', 4)\n",
      "('IZ*ONE-名井南', 4)\n",
      "('小米辣蒜泥油碟', 3)\n"
     ]
    }
   ],
   "source": [
    "cur.execute(\"select user_name,count(user_id) from wpp group by user_id ORDER BY count(user_id) DESC\")\n",
    "for i in range(0,10):\n",
    "    result = cur.fetchone()\n",
    "    print(result)"
   ]
  },
  {
   "cell_type": "code",
   "execution_count": 10,
   "metadata": {},
   "outputs": [],
   "source": [
    "cur.close()"
   ]
  },
  {
   "cell_type": "markdown",
   "metadata": {},
   "source": [
    "## 戏影 "
   ]
  },
  {
   "cell_type": "code",
   "execution_count": 8,
   "metadata": {},
   "outputs": [
    {
     "name": "stdout",
     "output_type": "stream",
     "text": [
      "[(191, 151)]\n"
     ]
    }
   ],
   "source": [
    "## https://www.douban.com/group/topic/170198801/?start=0\n",
    "cur.execute(\"select COUNT(user_id),COUNT(DISTINCT user_id) from xyp\")\n",
    "print(cur.fetchall())"
   ]
  },
  {
   "cell_type": "code",
   "execution_count": 9,
   "metadata": {},
   "outputs": [
    {
     "name": "stdout",
     "output_type": "stream",
     "text": [
      "('年终七折', 21)\n",
      "('人间垃圾袋', 5)\n",
      "('树莓耳朵儿', 3)\n",
      "('雪山泡芙', 2)\n",
      "('长信', 2)\n",
      "('少女徐必成', 2)\n",
      "('一盏暮色', 2)\n",
      "('嘟噜嘟噜嘟', 2)\n",
      "('单身女士俱乐部', 2)\n",
      "('多喝热水', 2)\n"
     ]
    }
   ],
   "source": [
    "cur.execute(\"select user_name,count(user_id) from xyp group by user_id ORDER BY count(user_id) DESC\")\n",
    "for i in range(0,10):\n",
    "    result = cur.fetchone()\n",
    "    print(result)"
   ]
  },
  {
   "cell_type": "code",
   "execution_count": 11,
   "metadata": {},
   "outputs": [],
   "source": [
    "cur.close()"
   ]
  },
  {
   "cell_type": "markdown",
   "metadata": {},
   "source": [
    "## 完年 "
   ]
  },
  {
   "cell_type": "code",
   "execution_count": 13,
   "metadata": {},
   "outputs": [
    {
     "name": "stdout",
     "output_type": "stream",
     "text": [
      "[(261, 168)]\n"
     ]
    }
   ],
   "source": [
    "## https://www.douban.com/group/topic/176775239/?start=0\n",
    "cur.execute(\"select COUNT(user_id),COUNT(DISTINCT user_id) from wnp\")\n",
    "print(cur.fetchall())"
   ]
  },
  {
   "cell_type": "code",
   "execution_count": 14,
   "metadata": {},
   "outputs": [
    {
     "name": "stdout",
     "output_type": "stream",
     "text": [
      "('金珍妮', 37)\n",
      "('山口实惠', 7)\n",
      "('葡萄红柚', 4)\n",
      "('李秀🈵天过海', 4)\n",
      "('加拿大', 4)\n",
      "('Mesoplodon', 3)\n",
      "('亚斯', 3)\n",
      "('打爆邵群狗头', 3)\n",
      "('关于你的眉', 3)\n",
      "('[已注销]', 3)\n"
     ]
    }
   ],
   "source": [
    "cur.execute(\"select user_name,count(user_id) from wnp group by user_id ORDER BY count(user_id) DESC\")\n",
    "for i in range(0,10):\n",
    "    result = cur.fetchone()\n",
    "    print(result)"
   ]
  },
  {
   "cell_type": "code",
   "execution_count": null,
   "metadata": {},
   "outputs": [],
   "source": []
  }
 ],
 "metadata": {
  "kernelspec": {
   "display_name": "Python 3",
   "language": "python",
   "name": "python3"
  },
  "language_info": {
   "codemirror_mode": {
    "name": "ipython",
    "version": 3
   },
   "file_extension": ".py",
   "mimetype": "text/x-python",
   "name": "python",
   "nbconvert_exporter": "python",
   "pygments_lexer": "ipython3",
   "version": "3.7.4"
  },
  "toc": {
   "base_numbering": 1,
   "nav_menu": {},
   "number_sections": true,
   "sideBar": true,
   "skip_h1_title": false,
   "title_cell": "Table of Contents",
   "title_sidebar": "Contents",
   "toc_cell": false,
   "toc_position": {},
   "toc_section_display": true,
   "toc_window_display": false
  }
 },
 "nbformat": 4,
 "nbformat_minor": 2
}

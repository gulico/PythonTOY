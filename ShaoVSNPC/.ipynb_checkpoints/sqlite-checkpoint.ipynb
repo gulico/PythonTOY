{
 "cells": [
  {
   "cell_type": "code",
   "execution_count": 2,
   "metadata": {},
   "outputs": [],
   "source": [
    "import sqlite3"
   ]
  },
  {
   "cell_type": "code",
   "execution_count": 3,
   "metadata": {},
   "outputs": [
    {
     "name": "stdout",
     "output_type": "stream",
     "text": [
      "[(506,)]\n"
     ]
    }
   ],
   "source": [
    "con = sqlite3.connect(\"doubangroup.db\")\n",
    "cur = con.cursor()\n",
    "cur.execute(\"select COUNT(DISTINCT user_id) from shao\")\n",
    "print(cur.fetchall())"
   ]
  },
  {
   "cell_type": "code",
   "execution_count": 13,
   "metadata": {},
   "outputs": [
    {
     "name": "stdout",
     "output_type": "stream",
     "text": [
      "[(29779,)]\n"
     ]
    }
   ],
   "source": [
    "cur.execute(\"select COUNT(user_id) from shao\")\n",
    "print(cur.fetchall())"
   ]
  },
  {
   "cell_type": "code",
   "execution_count": 14,
   "metadata": {},
   "outputs": [
    {
     "name": "stdout",
     "output_type": "stream",
     "text": [
      "[(2728,)]\n"
     ]
    }
   ],
   "source": [
    "cur.execute(\"select COUNT(DISTINCT user_id) from npc\")\n",
    "print(cur.fetchall())"
   ]
  },
  {
   "cell_type": "code",
   "execution_count": 6,
   "metadata": {},
   "outputs": [
    {
     "name": "stdout",
     "output_type": "stream",
     "text": [
      "[(26269,)]\n"
     ]
    }
   ],
   "source": [
    "cur.execute(\"select COUNT(user_id) from npc\")\n",
    "print(cur.fetchall())"
   ]
  },
  {
   "cell_type": "code",
   "execution_count": 7,
   "metadata": {
    "scrolled": true
   },
   "outputs": [
    {
     "name": "stdout",
     "output_type": "stream",
     "text": [
      "[(189,)]\n"
     ]
    }
   ],
   "source": [
    "cur.execute(\"select COUNT(*) from shao where user_id = '155619420'\")\n",
    "print(cur.fetchall())"
   ]
  },
  {
   "cell_type": "code",
   "execution_count": 69,
   "metadata": {},
   "outputs": [
    {
     "name": "stdout",
     "output_type": "stream",
     "text": [
      "('永寂音', 1292)\n",
      "('橘子海', 1282)\n",
      "('中国台湾叶舒华', 836)\n",
      "('酸汤鱼薯片', 403)\n",
      "('SHE_王子异', 382)\n",
      "('请耐心一点', 291)\n",
      "('贪吃猫（已当妈', 265)\n",
      "('煙里一隻狼', 252)\n",
      "('王子异（已结婚', 220)\n",
      "('一只冰箱', 206)\n",
      "('自行车与花', 206)\n",
      "('姚琛', 203)\n",
      "('江湖骗子', 182)\n",
      "('让你别看你还看', 180)\n",
      "('陈信宏', 177)\n",
      "('打架请扣1', 147)\n",
      "('啊？', 144)\n",
      "('闹钟不起床', 138)\n",
      "('牛奶泡面🥛', 136)\n",
      "('宋祖儿', 119)\n"
     ]
    }
   ],
   "source": [
    "cur.execute(\"select user_name,count(user_id) from npc group by user_id ORDER BY count(user_id) DESC\")\n",
    "for i in range(0,20):\n",
    "    result = cur.fetchone()\n",
    "    print(result)"
   ]
  },
  {
   "cell_type": "code",
   "execution_count": 9,
   "metadata": {},
   "outputs": [],
   "source": [
    "cur.close()\n",
    "con.close()"
   ]
  },
  {
   "cell_type": "code",
   "execution_count": null,
   "metadata": {},
   "outputs": [],
   "source": []
  },
  {
   "cell_type": "code",
   "execution_count": null,
   "metadata": {},
   "outputs": [],
   "source": []
  }
 ],
 "metadata": {
  "kernelspec": {
   "display_name": "Python 3",
   "language": "python",
   "name": "python3"
  },
  "language_info": {
   "codemirror_mode": {
    "name": "ipython",
    "version": 3
   },
   "file_extension": ".py",
   "mimetype": "text/x-python",
   "name": "python",
   "nbconvert_exporter": "python",
   "pygments_lexer": "ipython3",
   "version": "3.7.4"
  },
  "toc": {
   "base_numbering": 1,
   "nav_menu": {},
   "number_sections": true,
   "sideBar": true,
   "skip_h1_title": false,
   "title_cell": "Table of Contents",
   "title_sidebar": "Contents",
   "toc_cell": false,
   "toc_position": {},
   "toc_section_display": true,
   "toc_window_display": false
  }
 },
 "nbformat": 4,
 "nbformat_minor": 2
}
